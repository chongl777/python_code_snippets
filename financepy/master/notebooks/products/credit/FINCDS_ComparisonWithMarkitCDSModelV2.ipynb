{
 "cells": [
  {
   "attachments": {},
   "cell_type": "markdown",
   "metadata": {},
   "source": [
    "# Creating and Valuing a CDS Contract"
   ]
  },
  {
   "attachments": {},
   "cell_type": "markdown",
   "metadata": {},
   "source": [
    "Replicating Markit Pricing on 20 Aug 2020"
   ]
  },
  {
   "cell_type": "code",
   "execution_count": 1,
   "metadata": {},
   "outputs": [],
   "source": [
    "import numpy as np\n",
    "import matplotlib.pyplot as plt"
   ]
  },
  {
   "cell_type": "code",
   "execution_count": 2,
   "metadata": {},
   "outputs": [
    {
     "name": "stdout",
     "output_type": "stream",
     "text": [
      "####################################################################\n",
      "# FINANCEPY BETA Version 0.300 - This build:  04 Jul 2023 at 14:15 #\n",
      "#     This software is distributed FREE AND WITHOUT ANY WARRANTY   #\n",
      "#  Report bugs as issues at https://github.com/domokane/FinancePy  #\n",
      "####################################################################\n",
      "\n"
     ]
    }
   ],
   "source": [
    "from financepy.utils import *\n",
    "from financepy.products.rates import *\n",
    "from financepy.products.credit import *"
   ]
  },
  {
   "cell_type": "code",
   "execution_count": 3,
   "metadata": {},
   "outputs": [],
   "source": [
    "valuation_date = Date(20, 8, 2020)"
   ]
  },
  {
   "attachments": {},
   "cell_type": "markdown",
   "metadata": {},
   "source": [
    "## Build Ibor Curve"
   ]
  },
  {
   "cell_type": "code",
   "execution_count": 4,
   "metadata": {},
   "outputs": [],
   "source": [
    "settlement_date = Date(24, 8, 2020)\n"
   ]
  },
  {
   "cell_type": "code",
   "execution_count": 5,
   "metadata": {},
   "outputs": [],
   "source": [
    "dcType = DayCountTypes.ACT_360\n",
    "depo1 = IborDeposit(settlement_date, \"1M\", 0.001709, dcType)\n",
    "depo2 = IborDeposit(settlement_date, \"2M\", 0.002123, dcType)\n",
    "depo3 = IborDeposit(settlement_date, \"3M\", 0.002469, dcType)\n",
    "depo4 = IborDeposit(settlement_date, \"6M\", 0.003045, dcType)\n",
    "depo5 = IborDeposit(settlement_date, \"12M\", 0.004449, dcType)\n",
    "depos = [depo1,depo2,depo3,depo4,depo5]\n",
    "\n",
    "swapType = SwapTypes.PAY\n",
    "dcType = DayCountTypes.THIRTY_E_360_ISDA\n",
    "fixedFreq = FrequencyTypes.SEMI_ANNUAL\n",
    "swap1 = IborSwap(settlement_date,\"2Y\", swapType, 0.002155,fixedFreq,dcType)\n",
    "swap2 = IborSwap(settlement_date,\"3Y\", swapType, 0.002305,fixedFreq,dcType)\n",
    "swap3 = IborSwap(settlement_date,\"4Y\", swapType, 0.002665,fixedFreq,dcType)\n",
    "swap4 = IborSwap(settlement_date,\"5Y\", swapType, 0.003290,fixedFreq,dcType)\n",
    "swap5 = IborSwap(settlement_date,\"6Y\", swapType, 0.004025,fixedFreq,dcType)\n",
    "swap6 = IborSwap(settlement_date,\"7Y\", swapType, 0.004725,fixedFreq,dcType)\n",
    "swap7 = IborSwap(settlement_date,\"8Y\", swapType, 0.005430,fixedFreq,dcType)\n",
    "swap8 = IborSwap(settlement_date,\"9Y\", swapType, 0.006075,fixedFreq,dcType)\n",
    "swap9 = IborSwap(settlement_date,\"10Y\", swapType, 0.006640,fixedFreq,dcType)\n",
    "swaps = [swap1,swap2,swap3,swap4,swap5,swap6,swap7,swap8,swap9]\n",
    "\n",
    "libor_curve = IborSingleCurve(valuation_date, depos, [], swaps)"
   ]
  },
  {
   "attachments": {},
   "cell_type": "markdown",
   "metadata": {},
   "source": [
    "## Creating a CDS Contract"
   ]
  },
  {
   "cell_type": "code",
   "execution_count": 6,
   "metadata": {},
   "outputs": [],
   "source": [
    "effective_date = Date(20, 6, 2018)\n",
    "maturity_date = Date(20, 6, 2025)\n",
    "running_coupon = 0.05\n",
    "notional = ONE_MILLION\n",
    "long_protection = True"
   ]
  },
  {
   "cell_type": "code",
   "execution_count": 7,
   "metadata": {},
   "outputs": [],
   "source": [
    "cds_contract = CDS(effective_date, maturity_date, running_coupon, notional, long_protection)"
   ]
  },
  {
   "cell_type": "code",
   "execution_count": 8,
   "metadata": {},
   "outputs": [
    {
     "name": "stdout",
     "output_type": "stream",
     "text": [
      "OBJECT TYPE: CDS\n",
      "STEP-IN DATE: 20-JUN-2018\n",
      "MATURITY: 20-JUN-2025\n",
      "NOTIONAL: 1000000\n",
      "RUNNING COUPON: 500.0bp\n",
      "DAYCOUNT: DayCountTypes.ACT_360\n",
      "FREQUENCY: FrequencyTypes.QUARTERLY\n",
      "CALENDAR: CalendarTypes.WEEKEND\n",
      "BUSDAYRULE: BusDayAdjustTypes.FOLLOWING\n",
      "DATEGENRULE: DateGenRuleTypes.BACKWARD\n",
      "ACCRUED DAYS: 0.0\n",
      "PAYMENT_DATE, YEAR_FRAC, ACCRUAL_START, ACCRUAL_END, FLOW\n",
      "20-SEP-2018,     0.255556, 20-JUN-2018, 19-SEP-2018, 12777.777778\n",
      "20-DEC-2018,     0.252778, 20-SEP-2018, 19-DEC-2018, 12638.888889\n",
      "20-MAR-2019,     0.250000, 20-DEC-2018, 19-MAR-2019, 12500.000000\n",
      "20-JUN-2019,     0.255556, 20-MAR-2019, 19-JUN-2019, 12777.777778\n",
      "20-SEP-2019,     0.255556, 20-JUN-2019, 19-SEP-2019, 12777.777778\n",
      "20-DEC-2019,     0.252778, 20-SEP-2019, 19-DEC-2019, 12638.888889\n",
      "20-MAR-2020,     0.252778, 20-DEC-2019, 19-MAR-2020, 12638.888889\n",
      "22-JUN-2020,     0.261111, 20-MAR-2020, 21-JUN-2020, 13055.555556\n",
      "21-SEP-2020,     0.252778, 22-JUN-2020, 20-SEP-2020, 12638.888889\n",
      "21-DEC-2020,     0.252778, 21-SEP-2020, 20-DEC-2020, 12638.888889\n",
      "22-MAR-2021,     0.252778, 21-DEC-2020, 21-MAR-2021, 12638.888889\n",
      "21-JUN-2021,     0.252778, 22-MAR-2021, 20-JUN-2021, 12638.888889\n",
      "20-SEP-2021,     0.252778, 21-JUN-2021, 19-SEP-2021, 12638.888889\n",
      "20-DEC-2021,     0.252778, 20-SEP-2021, 19-DEC-2021, 12638.888889\n",
      "21-MAR-2022,     0.252778, 20-DEC-2021, 20-MAR-2022, 12638.888889\n",
      "20-JUN-2022,     0.252778, 21-MAR-2022, 19-JUN-2022, 12638.888889\n",
      "20-SEP-2022,     0.255556, 20-JUN-2022, 19-SEP-2022, 12777.777778\n",
      "20-DEC-2022,     0.252778, 20-SEP-2022, 19-DEC-2022, 12638.888889\n",
      "20-MAR-2023,     0.250000, 20-DEC-2022, 19-MAR-2023, 12500.000000\n",
      "20-JUN-2023,     0.255556, 20-MAR-2023, 19-JUN-2023, 12777.777778\n",
      "20-SEP-2023,     0.255556, 20-JUN-2023, 19-SEP-2023, 12777.777778\n",
      "20-DEC-2023,     0.252778, 20-SEP-2023, 19-DEC-2023, 12638.888889\n",
      "20-MAR-2024,     0.252778, 20-DEC-2023, 19-MAR-2024, 12638.888889\n",
      "20-JUN-2024,     0.255556, 20-MAR-2024, 19-JUN-2024, 12777.777778\n",
      "20-SEP-2024,     0.255556, 20-JUN-2024, 19-SEP-2024, 12777.777778\n",
      "20-DEC-2024,     0.252778, 20-SEP-2024, 19-DEC-2024, 12638.888889\n",
      "20-MAR-2025,     0.250000, 20-DEC-2024, 19-MAR-2025, 12500.000000\n",
      "20-JUN-2025,     0.258333, 20-MAR-2025, 20-JUN-2025, 12916.666667\n"
     ]
    }
   ],
   "source": [
    "print(cds_contract)"
   ]
  },
  {
   "attachments": {},
   "cell_type": "markdown",
   "metadata": {},
   "source": [
    "# Build a CDS Curve"
   ]
  },
  {
   "cell_type": "code",
   "execution_count": 9,
   "metadata": {},
   "outputs": [],
   "source": [
    "cdsSpread = 0.01"
   ]
  },
  {
   "cell_type": "code",
   "execution_count": 10,
   "metadata": {},
   "outputs": [],
   "source": [
    "cds1 = CDS(settlement_date, \"6M\", cdsSpread)\n",
    "cds2 = CDS(settlement_date, \"1Y\", cdsSpread)\n",
    "cds3 = CDS(settlement_date, \"2Y\", cdsSpread)\n",
    "cds4 = CDS(settlement_date, \"3Y\", cdsSpread)\n",
    "cds5 = CDS(settlement_date, \"4Y\", cdsSpread)\n",
    "cds6 = CDS(settlement_date, \"5Y\", cdsSpread)\n",
    "cds7 = CDS(settlement_date, \"7Y\", cdsSpread)\n",
    "cds8 = CDS(settlement_date, \"10Y\", cdsSpread)"
   ]
  },
  {
   "cell_type": "code",
   "execution_count": 11,
   "metadata": {},
   "outputs": [],
   "source": [
    "cdss = [cds1, cds2, cds3] #, cds4, cds5, cds6, cds7, cds8]"
   ]
  },
  {
   "cell_type": "code",
   "execution_count": 12,
   "metadata": {},
   "outputs": [
    {
     "name": "stdout",
     "output_type": "stream",
     "text": [
      "OBJECT TYPE: CDS\n",
      "STEP-IN DATE: 24-AUG-2020\n",
      "MATURITY: 20-SEP-2022\n",
      "NOTIONAL: 1000000\n",
      "RUNNING COUPON: 100.0bp\n",
      "DAYCOUNT: DayCountTypes.ACT_360\n",
      "FREQUENCY: FrequencyTypes.QUARTERLY\n",
      "CALENDAR: CalendarTypes.WEEKEND\n",
      "BUSDAYRULE: BusDayAdjustTypes.FOLLOWING\n",
      "DATEGENRULE: DateGenRuleTypes.BACKWARD\n",
      "ACCRUED DAYS: 63.0\n",
      "PAYMENT_DATE, YEAR_FRAC, ACCRUAL_START, ACCRUAL_END, FLOW\n",
      "21-SEP-2020,     0.252778, 22-JUN-2020, 20-SEP-2020,  2527.777778\n",
      "21-DEC-2020,     0.252778, 21-SEP-2020, 20-DEC-2020,  2527.777778\n",
      "22-MAR-2021,     0.252778, 21-DEC-2020, 21-MAR-2021,  2527.777778\n",
      "21-JUN-2021,     0.252778, 22-MAR-2021, 20-JUN-2021,  2527.777778\n",
      "20-SEP-2021,     0.252778, 21-JUN-2021, 19-SEP-2021,  2527.777778\n",
      "20-DEC-2021,     0.252778, 20-SEP-2021, 19-DEC-2021,  2527.777778\n",
      "21-MAR-2022,     0.252778, 20-DEC-2021, 20-MAR-2022,  2527.777778\n",
      "20-JUN-2022,     0.252778, 21-MAR-2022, 19-JUN-2022,  2527.777778\n",
      "20-SEP-2022,     0.258333, 20-JUN-2022, 20-SEP-2022,  2583.333333\n"
     ]
    }
   ],
   "source": [
    "print(cds3)"
   ]
  },
  {
   "cell_type": "code",
   "execution_count": 13,
   "metadata": {},
   "outputs": [],
   "source": [
    "recovery_rate = 0.40"
   ]
  },
  {
   "cell_type": "code",
   "execution_count": 14,
   "metadata": {},
   "outputs": [
    {
     "name": "stdout",
     "output_type": "stream",
     "text": [
      "===================\n",
      "Teff 0.010958904109589041\n",
      "Acc 0.175\n",
      "Payments [0.08767123 0.3369863  0.58630137]\n",
      "Alphas [0.25277778 0.25277778 0.25      ]\n",
      "QTimes [0.         0.58082192]\n",
      "QValues [1. 1.]\n",
      "ProtPV 0.010958904109589041 0.5808219178082191 0.0\n",
      "protLeg 0.0 cleanRPV01 0.5797856809030655 value -5797.856809030654\n",
      "===================\n",
      "Teff 0.010958904109589041\n",
      "Acc 0.175\n",
      "Payments [0.08767123 0.3369863  0.58630137]\n",
      "Alphas [0.25277778 0.25277778 0.25      ]\n",
      "QTimes [0.         0.58082192]\n",
      "QValues [1.     1.0002]\n",
      "ProtPV 0.010958904109589041 0.5808219178082191 -0.00011763840860145024\n",
      "protLeg -117.63840860145024 cleanRPV01 0.5798457760111959 value -5916.0961687134095\n",
      "===================\n",
      "Teff 0.010958904109589041\n",
      "Acc 0.175\n",
      "Payments [0.08767123 0.3369863  0.58630137]\n",
      "Alphas [0.25277778 0.25277778 0.25      ]\n",
      "QTimes [0.         0.58082192]\n",
      "QValues [1.         0.99019302]\n",
      "ProtPV 0.010958904109589041 0.5808219178082191 0.005767869195283966\n",
      "protLeg 5767.869195283966 cleanRPV01 0.5768339663830966 value -0.4704685469996548\n",
      "===================\n",
      "Teff 0.010958904109589041\n",
      "Acc 0.175\n",
      "Payments [0.08767123 0.3369863  0.58630137]\n",
      "Alphas [0.25277778 0.25277778 0.25      ]\n",
      "QTimes [0.         0.58082192]\n",
      "QValues [1.         0.99019222]\n",
      "ProtPV 0.010958904109589041 0.5808219178082191 0.005768337224745482\n",
      "protLeg 5768.337224745482 cleanRPV01 0.5768337264502386 value -3.975690378865693e-05\n",
      "===================\n",
      "Teff 0.010958904109589041\n",
      "Acc 0.175\n",
      "Payments [0.08767123 0.3369863  0.58630137 0.83561644 1.08493151]\n",
      "Alphas [0.25277778 0.25277778 0.25277778 0.25277778 0.25555556]\n",
      "QTimes [0.         0.58082192 1.08493151]\n",
      "QValues [1.         0.99019222 0.99019222]\n",
      "ProtPV 0.010958904109589041 1.084931506849315 0.0057683307957754\n",
      "protLeg 5768.3307957754 cleanRPV01 1.0809372082376678 value -5041.041286601278\n",
      "===================\n",
      "Teff 0.010958904109589041\n",
      "Acc 0.175\n",
      "Payments [0.08767123 0.3369863  0.58630137 0.83561644 1.08493151]\n",
      "Alphas [0.25277778 0.25277778 0.25277778 0.25277778 0.25555556]\n",
      "QTimes [0.         0.58082192 1.08493151]\n",
      "QValues [1.         0.99019222 0.99039124]\n",
      "ProtPV 0.010958904109589041 1.084931506849315 0.005668810556198163\n",
      "protLeg 5668.810556198163 cleanRPV01 1.0809885010497093 value -5141.0744542989305\n",
      "===================\n",
      "Teff 0.010958904109589041\n",
      "Acc 0.175\n",
      "Payments [0.08767123 0.3369863  0.58630137 0.83561644 1.08493151]\n",
      "Alphas [0.25277778 0.25277778 0.25277778 0.25277778 0.25555556]\n",
      "QTimes [0.         0.58082192 1.08493151]\n",
      "QValues [1.         0.99019222 0.98016291]\n",
      "ProtPV 0.010958904109589041 1.084931506849315 0.011765357732633135\n",
      "protLeg 11765.357732633136 cleanRPV01 1.0783478627758178 value 981.879104874959\n",
      "===================\n",
      "Teff 0.010958904109589041\n",
      "Acc 0.175\n",
      "Payments [0.08767123 0.3369863  0.58630137 0.83561644 1.08493151]\n",
      "Alphas [0.25277778 0.25277778 0.25277778 0.25277778 0.25555556]\n",
      "QTimes [0.         0.58082192 1.08493151]\n",
      "QValues [1.         0.99019222 0.98180313]\n",
      "ProtPV 0.010958904109589041 1.084931506849315 0.010784586546707726\n",
      "protLeg 10784.586546707727 cleanRPV01 1.0787719385933483 value -3.132839225754651\n",
      "===================\n",
      "Teff 0.010958904109589041\n",
      "Acc 0.175\n",
      "Payments [0.08767123 0.3369863  0.58630137 0.83561644 1.08493151]\n",
      "Alphas [0.25277778 0.25277778 0.25277778 0.25277778 0.25555556]\n",
      "QTimes [0.         0.58082192 1.08493151]\n",
      "QValues [1.         0.99019222 0.98179791]\n",
      "ProtPV 0.010958904109589041 1.084931506849315 0.010787705896900103\n",
      "protLeg 10787.705896900103 cleanRPV01 1.0787705901947784 value -5.047681042924523e-06\n",
      "===================\n",
      "Teff 0.010958904109589041\n",
      "Acc 0.175\n",
      "Payments [0.08767123 0.3369863  0.58630137 0.83561644 1.08493151 1.33424658\n",
      " 1.58356164 1.83287671 2.08493151]\n",
      "Alphas [0.25277778 0.25277778 0.25277778 0.25277778 0.25277778 0.25277778\n",
      " 0.25277778 0.25277778 0.25833333]\n",
      "QTimes [0.         0.58082192 1.08493151 2.08493151]\n",
      "QValues [1.         0.99019222 0.98179791 0.98179791]\n",
      "ProtPV 0.010958904109589041 2.084931506849315 0.01078770780810252\n",
      "protLeg 10787.70780810252 cleanRPV01 2.0697949876519037 value -9910.242068416517\n",
      "===================\n",
      "Teff 0.010958904109589041\n",
      "Acc 0.175\n",
      "Payments [0.08767123 0.3369863  0.58630137 0.83561644 1.08493151 1.33424658\n",
      " 1.58356164 1.83287671 2.08493151]\n",
      "Alphas [0.25277778 0.25277778 0.25277778 0.25277778 0.25277778 0.25277778\n",
      " 0.25277778 0.25277778 0.25833333]\n",
      "QTimes [0.         0.58082192 1.08493151 2.08493151]\n",
      "QValues [1.         0.99019222 0.98179791 0.98199609]\n",
      "ProtPV 0.010958904109589041 2.084931506849315 0.010881146230010847\n",
      "protLeg 10881.146230010847 cleanRPV01 2.069895448260758 value -9817.808252596733\n",
      "===================\n",
      "Teff 0.010958904109589041\n",
      "Acc 0.175\n",
      "Payments [0.08767123 0.3369863  0.58630137 0.83561644 1.08493151 1.33424658\n",
      " 1.58356164 1.83287671 2.08493151]\n",
      "Alphas [0.25277778 0.25277778 0.25277778 0.25277778 0.25277778 0.25277778\n",
      " 0.25277778 0.25277778 0.25833333]\n",
      "QTimes [0.         0.58082192 1.08493151 2.08493151]\n",
      "QValues [1.         0.99019222 0.98179791 1.00304565]\n",
      "ProtPV 0.010958904109589041 2.084931506849315 0.023150287643578953\n",
      "protLeg 23150.28764357895 cleanRPV01 2.080527845166699 value 2345.0091919119623\n",
      "===================\n",
      "Teff 0.010958904109589041\n",
      "Acc 0.175\n",
      "Payments [0.08767123 0.3369863  0.58630137 0.83561644 1.08493151 1.33424658\n",
      " 1.58356164 1.83287671 2.08493151]\n",
      "Alphas [0.25277778 0.25277778 0.25277778 0.25277778 0.25277778 0.25277778\n",
      " 0.25277778 0.25277778 0.25833333]\n",
      "QTimes [0.         0.58082192 1.08493151 2.08493151]\n",
      "QValues [1.         0.99019222 0.98179791 0.99897995]\n",
      "ProtPV 0.010958904109589041 2.084931506849315 0.020721612490222727\n",
      "protLeg 20721.612490222728 cleanRPV01 2.078480021669217 value -63.18772646944126\n",
      "===================\n",
      "Teff 0.010958904109589041\n",
      "Acc 0.175\n",
      "Payments [0.08767123 0.3369863  0.58630137 0.83561644 1.08493151 1.33424658\n",
      " 1.58356164 1.83287671 2.08493151]\n",
      "Alphas [0.25277778 0.25277778 0.25277778 0.25277778 0.25277778 0.25277778\n",
      " 0.25277778 0.25277778 0.25833333]\n",
      "QTimes [0.         0.58082192 1.08493151 2.08493151]\n",
      "QValues [1.         0.99019222 0.98179791 0.99908663]\n",
      "ProtPV 0.010958904109589041 2.084931506849315 0.02078533753379403\n",
      "protLeg 20785.33753379403 cleanRPV01 2.078533789521561 value -0.00036142158205620944\n"
     ]
    }
   ],
   "source": [
    "issuer_curve = CDSCurve(valuation_date, cdss, libor_curve, recovery_rate)"
   ]
  },
  {
   "cell_type": "code",
   "execution_count": 15,
   "metadata": {},
   "outputs": [
    {
     "name": "stdout",
     "output_type": "stream",
     "text": [
      "OBJECT TYPE: CDSCurve\n",
      "TIME,SURVIVAL_PROBABILITY\n",
      " 0.0000000,  1.0000000\n",
      " 0.5808219,  0.9901922\n",
      " 1.0849315,  0.9817979\n",
      " 2.0849315,  0.9990866\n"
     ]
    }
   ],
   "source": [
    "print(issuer_curve)"
   ]
  },
  {
   "cell_type": "code",
   "execution_count": 16,
   "metadata": {},
   "outputs": [
    {
     "name": "stdout",
     "output_type": "stream",
     "text": [
      "PAYMENT_DATE      YEAR_FRAC      FLOW           DF       SURV_PROB      NPV\n",
      "    21-SEP-2020   0.252778     12638.89     0.999848     0.998513     12618.18\n",
      "    21-DEC-2020   0.252778     12638.89     0.999079     0.994298     12555.25\n",
      "    22-MAR-2021   0.252778     12638.89     0.998005     0.990101     12488.80\n",
      "    21-JUN-2021   0.252778     12638.89     0.996528     0.985941     12417.93\n",
      "    20-SEP-2021   0.252778     12638.89     0.995505     0.981798     12353.06\n",
      "    20-DEC-2021   0.252778     12638.89     0.995554     0.986080     12407.55\n",
      "    21-MAR-2022   0.252778     12638.89     0.995603     0.990381     12462.28\n",
      "    20-JUN-2022   0.252778     12638.89     0.995652     0.994700     12517.25\n",
      "    20-SEP-2022   0.255556     12777.78     0.995495     0.999087     12708.60\n",
      "    20-DEC-2022   0.252778     12638.89     0.994848     1.003444     12617.08\n",
      "    20-MAR-2023   0.250000     12500.00     0.994209     1.007773     12524.21\n",
      "    20-JUN-2023   0.255556     12777.78     0.993556     1.012216     12850.53\n",
      "    20-SEP-2023   0.255556     12777.78     0.992820     1.016680     12897.64\n",
      "    20-DEC-2023   0.252778     12638.89     0.991895     1.021114     12801.15\n",
      "    20-MAR-2024   0.252778     12638.89     0.990971     1.025568     12845.00\n",
      "    20-JUN-2024   0.255556     12777.78     0.990038     1.030090     13031.13\n",
      "    20-SEP-2024   0.255556     12777.78     0.988964     1.034632     13074.40\n",
      "    20-DEC-2024   0.252778     12638.89     0.987528     1.039145     12969.83\n",
      "    20-MAR-2025   0.250000     12500.00     0.986110     1.043627     12864.15\n",
      "    20-JUN-2025   0.258333     12916.67     0.984663     1.048229     13331.97\n"
     ]
    }
   ],
   "source": [
    "cds_contract.print_flows(valuation_date, issuer_curve)"
   ]
  },
  {
   "attachments": {},
   "cell_type": "markdown",
   "metadata": {},
   "source": [
    "# Valuation"
   ]
  },
  {
   "cell_type": "code",
   "execution_count": 23,
   "metadata": {},
   "outputs": [
    {
     "name": "stdout",
     "output_type": "stream",
     "text": [
      "FAIR CDS SPREAD  103.51694 bp\n"
     ]
    }
   ],
   "source": [
    "spd = cds_contract.par_spread(settlement_date, issuer_curve, recovery_rate) * 10000.0\n",
    "print(\"FAIR CDS SPREAD %10.5f bp\"% spd)"
   ]
  },
  {
   "cell_type": "code",
   "execution_count": 24,
   "metadata": {},
   "outputs": [
    {
     "data": {
      "text/plain": [
       "(-279013.4379446856, -270541.2157224633, 724.3863562626066, 35.83825325872749)"
      ]
     },
     "execution_count": 24,
     "metadata": {},
     "output_type": "execute_result"
    }
   ],
   "source": [
    "cds_contract.value_fast_approx(settlement_date, 0.004, 0.01, 0.40, 0.40)"
   ]
  },
  {
   "cell_type": "code",
   "execution_count": 25,
   "metadata": {},
   "outputs": [],
   "source": [
    "v = cds_contract.value(settlement_date, issuer_curve, recovery_rate)"
   ]
  },
  {
   "cell_type": "code",
   "execution_count": 26,
   "metadata": {},
   "outputs": [],
   "source": [
    "dirty_pv = v['dirty_pv'] \n",
    "clean_pv = v['clean_pv']"
   ]
  },
  {
   "cell_type": "code",
   "execution_count": 27,
   "metadata": {},
   "outputs": [
    {
     "name": "stdout",
     "output_type": "stream",
     "text": [
      "DIRTY VALUE    -203180.08\n",
      "CLEAN VALUE   -194707.85\n"
     ]
    }
   ],
   "source": [
    "print(\"DIRTY VALUE %12.2f\"% dirty_pv)\n",
    "print(\"CLEAN VALUE %12.2f\"% clean_pv)"
   ]
  },
  {
   "cell_type": "code",
   "execution_count": 28,
   "metadata": {},
   "outputs": [
    {
     "name": "stdout",
     "output_type": "stream",
     "text": [
      "CLEAN PRICE   119.473842\n"
     ]
    }
   ],
   "source": [
    "cleanp = cds_contract.clean_price(settlement_date, issuer_curve, recovery_rate)\n",
    "print(\"CLEAN PRICE %12.6f\"% cleanp)"
   ]
  },
  {
   "cell_type": "code",
   "execution_count": 29,
   "metadata": {},
   "outputs": [
    {
     "name": "stdout",
     "output_type": "stream",
     "text": [
      "ACCRUED_DAYS 61.0\n"
     ]
    }
   ],
   "source": [
    "accrued_days = cds_contract.accrued_days()\n",
    "print(\"ACCRUED_DAYS\", accrued_days)"
   ]
  },
  {
   "cell_type": "code",
   "execution_count": 30,
   "metadata": {},
   "outputs": [
    {
     "name": "stdout",
     "output_type": "stream",
     "text": [
      "ACCRUED_COUPON -8472.222222222224\n"
     ]
    }
   ],
   "source": [
    "accrued_interest = cds_contract.accrued_interest()\n",
    "print(\"ACCRUED_COUPON\", accrued_interest)"
   ]
  },
  {
   "cell_type": "code",
   "execution_count": 29,
   "metadata": {},
   "outputs": [
    {
     "name": "stdout",
     "output_type": "stream",
     "text": [
      "PROTECTION_PV 48351.63655300625\n"
     ]
    }
   ],
   "source": [
    "prot_pv = cds_contract.protection_leg_pv(settlement_date, issuer_curve, recovery_rate)\n",
    "print(\"PROTECTION_PV\", prot_pv)"
   ]
  },
  {
   "cell_type": "code",
   "execution_count": 30,
   "metadata": {},
   "outputs": [
    {
     "name": "stdout",
     "output_type": "stream",
     "text": [
      "PREMIUM_PV 247495.1684866482\n"
     ]
    }
   ],
   "source": [
    "premPV = cds_contract.premium_leg_pv(settlement_date, issuer_curve, recovery_rate)\n",
    "print(\"PREMIUM_PV\", premPV)"
   ]
  },
  {
   "cell_type": "code",
   "execution_count": 31,
   "metadata": {},
   "outputs": [
    {
     "data": {
      "text/plain": [
       "{'dirty_rpv01': 4.949903369732964, 'clean_rpv01': 4.783236703066297}"
      ]
     },
     "execution_count": 31,
     "metadata": {},
     "output_type": "execute_result"
    }
   ],
   "source": [
    "cds_contract.risky_pv01(settlement_date, issuer_curve)"
   ]
  },
  {
   "attachments": {},
   "cell_type": "markdown",
   "metadata": {},
   "source": [
    "## Risk Measures"
   ]
  },
  {
   "cell_type": "code",
   "execution_count": 32,
   "metadata": {},
   "outputs": [
    {
     "data": {
      "text/plain": [
       "517.2947254180617"
      ]
     },
     "execution_count": 32,
     "metadata": {},
     "output_type": "execute_result"
    }
   ],
   "source": [
    "cds_contract.credit_dv01(settlement_date, issuer_curve, recovery_rate)"
   ]
  },
  {
   "cell_type": "code",
   "execution_count": 33,
   "metadata": {},
   "outputs": [
    {
     "data": {
      "text/plain": [
       "47.93812091532163"
      ]
     },
     "execution_count": 33,
     "metadata": {},
     "output_type": "execute_result"
    }
   ],
   "source": [
    "cds_contract.interest_dv01(settlement_date, issuer_curve, recovery_rate)"
   ]
  },
  {
   "attachments": {},
   "cell_type": "markdown",
   "metadata": {},
   "source": [
    "Copyright (c) 2020 Dominic O'Kane"
   ]
  },
  {
   "attachments": {},
   "cell_type": "markdown",
   "metadata": {},
   "source": []
  }
 ],
 "metadata": {
  "kernelspec": {
   "display_name": "Python 3",
   "language": "python",
   "name": "python3"
  },
  "language_info": {
   "codemirror_mode": {
    "name": "ipython",
    "version": 3
   },
   "file_extension": ".py",
   "mimetype": "text/x-python",
   "name": "python",
   "nbconvert_exporter": "python",
   "pygments_lexer": "ipython3",
   "version": "3.10.9"
  }
 },
 "nbformat": 4,
 "nbformat_minor": 2
}
